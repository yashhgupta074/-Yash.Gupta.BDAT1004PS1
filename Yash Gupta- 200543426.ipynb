{
 "cells": [
  {
   "cell_type": "markdown",
   "id": "408dceee",
   "metadata": {},
   "source": [
    "# Question 1\n"
   ]
  },
  {
   "cell_type": "code",
   "execution_count": 3,
   "id": "b3d0f5d9",
   "metadata": {},
   "outputs": [
    {
     "name": "stdout",
     "output_type": "stream",
     "text": [
      "<class 'int'>\n",
      "<class 'float'>\n",
      "<class 'bool'> True\n",
      "<class 'str'>\n",
      "<class 'int'> 10\n",
      "<class 'str'> 55\n",
      "<class 'str'> 52\n",
      "<class 'float'> 2.5\n",
      "<class 'int'> 1\n",
      "<class 'set'>\n",
      "<class 'bool'> False\n",
      "<class 'float'>\n"
     ]
    }
   ],
   "source": [
    "print(type(5))\n",
    "print(type(5.0))\n",
    "print(type(5>1),5>1)\n",
    "print(type('5'))\n",
    "print(type(5*2),5*2)\n",
    "print(type('5'*2),'5'*2)\n",
    "print(type('5'+'2'),'5'+'2')\n",
    "print(type(5/2),5/2)\n",
    "print(type(5%2),5%2)\n",
    "print(type({5,2,1}))\n",
    "print(type(5==3),5==3)\n",
    "print(type(3.14))"
   ]
  },
  {
   "cell_type": "markdown",
   "id": "3ce82d8f",
   "metadata": {},
   "source": [
    "# Question 2\n"
   ]
  },
  {
   "cell_type": "code",
   "execution_count": 4,
   "id": "5d14198e",
   "metadata": {},
   "outputs": [
    {
     "name": "stdout",
     "output_type": "stream",
     "text": [
      "34\n"
     ]
    }
   ],
   "source": [
    " s1='Supercalifragilisticexpialidocious'\n",
    "print(len(s1))"
   ]
  },
  {
   "cell_type": "code",
   "execution_count": 5,
   "id": "1fee5e85",
   "metadata": {},
   "outputs": [
    {
     "name": "stdout",
     "output_type": "stream",
     "text": [
      "True\n"
     ]
    }
   ],
   "source": [
    " s1='Supercalifragilisticexpialidocious'\n",
    " s2='ice'   \n",
    " print(s2 in s1)\n",
    "    "
   ]
  },
  {
   "cell_type": "code",
   "execution_count": 10,
   "id": "b1efeffe",
   "metadata": {},
   "outputs": [
    {
     "name": "stdout",
     "output_type": "stream",
     "text": [
      "Supercalifragilisticexpialidocious\n"
     ]
    }
   ],
   "source": [
    "s1='Supercalifragilisticexpialidocious'\n",
    "s2='Honorificabilitudinitatibus'\n",
    "s3='Bababadalgharaghtakamminarronnkonn'\n",
    "\n",
    "print(max(s1,s2,s3))"
   ]
  },
  {
   "cell_type": "code",
   "execution_count": 11,
   "id": "3c5821e7",
   "metadata": {},
   "outputs": [
    {
     "name": "stdout",
     "output_type": "stream",
     "text": [
      "['Bartok', 'Bellini', 'Berlioz', 'Bernstein', 'Borodin', 'Brian', 'Buxtehude']\n",
      "Bartok\n",
      "Buxtehude\n"
     ]
    }
   ],
   "source": [
    "lst=['Berlioz', 'Borodin', 'Brian','Bartok', 'Bellini', 'Buxtehude', 'Bernstein']\n",
    "lst.sort()\n",
    "print(lst)\n",
    "print(lst[0])\n",
    "print(lst[-1])"
   ]
  },
  {
   "cell_type": "code",
   "execution_count": 15,
   "id": "500545a1",
   "metadata": {},
   "outputs": [
    {
     "name": "stdout",
     "output_type": "stream",
     "text": [
      "1.7320508075688772\n"
     ]
    }
   ],
   "source": [
    "import math\n",
    "def triangleArea(a,b,c):\n",
    "    s=(a+b+c)/2\n",
    "    area=math.sqrt(s*(s-a)*(s-b)*(s-c))\n",
    "    return area \n",
    "\n",
    "print(triangleArea(2,2,2))"
   ]
  },
  {
   "cell_type": "markdown",
   "id": "b4af0620",
   "metadata": {},
   "source": [
    "# Question 3\n"
   ]
  },
  {
   "cell_type": "code",
   "execution_count": 16,
   "id": "8eb37fd4",
   "metadata": {},
   "outputs": [
    {
     "name": "stdout",
     "output_type": "stream",
     "text": [
      "Input the no of elements to be stored in array : 5\n",
      "Input 5 elements in the array : \n",
      "element -  0  :  25\n",
      "element -  1  :  47\n",
      "element -  2  :  42\n",
      "element -  3  :  56\n",
      "element -  4  :  32\n",
      "The Even elements are :  [42, 56, 32]\n",
      "The Odd elements are :  [25, 47]\n"
     ]
    }
   ],
   "source": [
    "lst=[]\n",
    "lst1=[]\n",
    "lst2=[]\n",
    "n=int(input('Input the no of elements to be stored in array : '))\n",
    "print('Input 5 elements in the array : ')\n",
    "for i in range(0,n):\n",
    "    print('element - ',i,' : ',end=\" \")\n",
    "    element = int(input())\n",
    "   \n",
    "    lst.append(element)\n",
    "    \n",
    "    if (lst[i]%2==0) :\n",
    "        lst1.append(lst[i])\n",
    "    else:\n",
    "        lst2.append(lst[i])\n",
    "\n",
    "        \n",
    "print('The Even elements are : ',lst1)\n",
    "print('The Odd elements are : ',lst2)"
   ]
  },
  {
   "cell_type": "markdown",
   "id": "5b3023ca",
   "metadata": {},
   "source": [
    "# Question 5\n"
   ]
  },
  {
   "cell_type": "code",
   "execution_count": 1,
   "id": "de9b7011",
   "metadata": {},
   "outputs": [],
   "source": [
    "def inside(x,y,x1,y1,x2,y2):\n",
    "    if(x>x1 and x<x2 and y>y1 and y<y2):\n",
    "        return True\n",
    "    else:\n",
    "        return False\n",
    "    "
   ]
  },
  {
   "cell_type": "code",
   "execution_count": 2,
   "id": "181351a9",
   "metadata": {},
   "outputs": [
    {
     "data": {
      "text/plain": [
       "True"
      ]
     },
     "execution_count": 2,
     "metadata": {},
     "output_type": "execute_result"
    }
   ],
   "source": [
    "inside(1,1,0,0,2,3) \n"
   ]
  },
  {
   "cell_type": "code",
   "execution_count": 3,
   "id": "ea4c242a",
   "metadata": {},
   "outputs": [
    {
     "data": {
      "text/plain": [
       "False"
      ]
     },
     "execution_count": 3,
     "metadata": {},
     "output_type": "execute_result"
    }
   ],
   "source": [
    "inside(-1,-1,0,0,2,3)\n"
   ]
  },
  {
   "cell_type": "code",
   "execution_count": 4,
   "id": "513effc8",
   "metadata": {},
   "outputs": [
    {
     "data": {
      "text/plain": [
       "False"
      ]
     },
     "execution_count": 4,
     "metadata": {},
     "output_type": "execute_result"
    }
   ],
   "source": [
    "inside(1,1,0.3,0.5,1.1,0.7)"
   ]
  },
  {
   "cell_type": "code",
   "execution_count": 5,
   "id": "53a5251b",
   "metadata": {},
   "outputs": [
    {
     "data": {
      "text/plain": [
       "True"
      ]
     },
     "execution_count": 5,
     "metadata": {},
     "output_type": "execute_result"
    }
   ],
   "source": [
    "inside(1,1,0.5,0.2,1.1,2)"
   ]
  },
  {
   "cell_type": "markdown",
   "id": "e6327f01",
   "metadata": {},
   "source": [
    "# Question 6"
   ]
  },
  {
   "cell_type": "code",
   "execution_count": 6,
   "id": "9a8a9305",
   "metadata": {},
   "outputs": [],
   "source": [
    "def pig(s):\n",
    "    if(s[0]=='a' or s[0]== 'e' or s[0]=='i'or s[0]=='o' or s[0]=='u'or s[0]=='A' or s[0]== 'E' or s[0]=='I'or s[0]=='O' or s[0]=='U'):\n",
    "        b= s[0:]+'way'\n",
    "        c= b.lower()\n",
    "        return c\n",
    "                 \n",
    "    else:\n",
    "            a1=s[0]\n",
    "            a=s[1:]+s[0]+'ay'\n",
    "            d=a.lower()\n",
    "            return d "
   ]
  },
  {
   "cell_type": "code",
   "execution_count": 7,
   "id": "fd218732",
   "metadata": {},
   "outputs": [
    {
     "name": "stdout",
     "output_type": "stream",
     "text": [
      "appyhay\n"
     ]
    }
   ],
   "source": [
    "str=pig('happy')\n",
    "print(str)"
   ]
  },
  {
   "cell_type": "code",
   "execution_count": 8,
   "id": "0c812321",
   "metadata": {},
   "outputs": [
    {
     "name": "stdout",
     "output_type": "stream",
     "text": [
      "enterway\n"
     ]
    }
   ],
   "source": [
    "str=pig('Enter')\n",
    "print(str)"
   ]
  },
  {
   "cell_type": "markdown",
   "id": "6837cc57",
   "metadata": {},
   "source": [
    "# Question 7\n"
   ]
  },
  {
   "cell_type": "code",
   "execution_count": 9,
   "id": "446952c9",
   "metadata": {},
   "outputs": [],
   "source": [
    "def bldcount(file):\n",
    "    arr = file.split(\" \")\n",
    "    a = arr.count(\"A\")\n",
    "    print(\"There are \",a,\" Patients of Blood type A\")\n",
    "    b = arr.count(\"B\")\n",
    "    print(\"There are \",b,\" Patients of Blood type B\")\n",
    "    ab = arr.count(\"AB\")\n",
    "    print(\"There are \",ab,\" Patients of Blood type AB\")\n",
    "    o = arr.count(\"O\")\n",
    "    print(\"There are \",o,\" Patients of Blood type O\")\n",
    "    oo = arr.count(\"OO\")\n",
    "    print(\"There are \",oo,\" Patients of Blood type OO\")"
   ]
  },
  {
   "cell_type": "code",
   "execution_count": 10,
   "id": "1bba47be",
   "metadata": {},
   "outputs": [
    {
     "name": "stdout",
     "output_type": "stream",
     "text": [
      "There are  15  Patients of Blood type A\n",
      "There are  1  Patients of Blood type B\n",
      "There are  13  Patients of Blood type AB\n",
      "There are  15  Patients of Blood type O\n",
      "There are  0  Patients of Blood type OO\n"
     ]
    }
   ],
   "source": [
    "file = open(\"bloodtype1.txt\", \"r\")\n",
    "bldcount(file.read())"
   ]
  },
  {
   "cell_type": "markdown",
   "id": "bb50924a",
   "metadata": {},
   "source": [
    "# Question 8"
   ]
  },
  {
   "cell_type": "code",
   "execution_count": 11,
   "id": "37997171",
   "metadata": {},
   "outputs": [],
   "source": [
    "def curconv(code, amount):\n",
    "    data = []\n",
    "    with open(\"currencies.txt\", 'r') as read_obj:\n",
    "        for line in read_obj:\n",
    "            if code in line:\n",
    "                for word in line.split():\n",
    "                    data.append(word)\n",
    "\n",
    "    currency = float(data[1])\n",
    "    return currency * amount"
   ]
  },
  {
   "cell_type": "code",
   "execution_count": 12,
   "id": "7bb64b71",
   "metadata": {},
   "outputs": [
    {
     "data": {
      "text/plain": [
       "122.96544"
      ]
     },
     "execution_count": 12,
     "metadata": {},
     "output_type": "execute_result"
    }
   ],
   "source": [
    "curconv('EUR', 100)"
   ]
  },
  {
   "cell_type": "code",
   "execution_count": 13,
   "id": "19443f04",
   "metadata": {},
   "outputs": [
    {
     "data": {
      "text/plain": [
       "1.241401"
      ]
     },
     "execution_count": 13,
     "metadata": {},
     "output_type": "execute_result"
    }
   ],
   "source": [
    "curconv('JPY', 100)"
   ]
  },
  {
   "cell_type": "markdown",
   "id": "1cb26e2e",
   "metadata": {},
   "source": [
    "# Question 9"
   ]
  },
  {
   "cell_type": "code",
   "execution_count": 23,
   "id": "9d198c11",
   "metadata": {},
   "outputs": [
    {
     "ename": "TypeError",
     "evalue": "unsupported operand type(s) for +: 'int' and 'str'",
     "output_type": "error",
     "traceback": [
      "\u001b[1;31m---------------------------------------------------------------------------\u001b[0m",
      "\u001b[1;31mTypeError\u001b[0m                                 Traceback (most recent call last)",
      "Cell \u001b[1;32mIn[23], line 1\u001b[0m\n\u001b[1;32m----> 1\u001b[0m \u001b[38;5;241;43m6\u001b[39;49m\u001b[38;5;241;43m+\u001b[39;49m\u001b[38;5;124;43m'\u001b[39;49m\u001b[38;5;124;43ma\u001b[39;49m\u001b[38;5;124;43m'\u001b[39;49m\n",
      "\u001b[1;31mTypeError\u001b[0m: unsupported operand type(s) for +: 'int' and 'str'"
     ]
    }
   ],
   "source": [
    "6+'a'\n"
   ]
  },
  {
   "cell_type": "code",
   "execution_count": 24,
   "id": "10ff0d6a",
   "metadata": {},
   "outputs": [
    {
     "ename": "IndexError",
     "evalue": "list index out of range",
     "output_type": "error",
     "traceback": [
      "\u001b[1;31m---------------------------------------------------------------------------\u001b[0m",
      "\u001b[1;31mIndexError\u001b[0m                                Traceback (most recent call last)",
      "Cell \u001b[1;32mIn[24], line 2\u001b[0m\n\u001b[0;32m      1\u001b[0m lst\u001b[38;5;241m=\u001b[39m[\u001b[38;5;241m0\u001b[39m,\u001b[38;5;241m1\u001b[39m,\u001b[38;5;241m2\u001b[39m,\u001b[38;5;241m3\u001b[39m,\u001b[38;5;241m4\u001b[39m,\u001b[38;5;241m5\u001b[39m,\u001b[38;5;241m6\u001b[39m,\u001b[38;5;241m7\u001b[39m,\u001b[38;5;241m8\u001b[39m,\u001b[38;5;241m9\u001b[39m]\n\u001b[1;32m----> 2\u001b[0m \u001b[38;5;28mprint\u001b[39m(\u001b[43mlst\u001b[49m\u001b[43m[\u001b[49m\u001b[38;5;241;43m12\u001b[39;49m\u001b[43m]\u001b[49m)\n",
      "\u001b[1;31mIndexError\u001b[0m: list index out of range"
     ]
    }
   ],
   "source": [
    "lst=[0,1,2,3,4,5,6,7,8,9]\n",
    "print(lst[12])"
   ]
  },
  {
   "cell_type": "code",
   "execution_count": 25,
   "id": "0e2f1e52",
   "metadata": {},
   "outputs": [
    {
     "ename": "ValueError",
     "evalue": "math domain error",
     "output_type": "error",
     "traceback": [
      "\u001b[1;31m---------------------------------------------------------------------------\u001b[0m",
      "\u001b[1;31mValueError\u001b[0m                                Traceback (most recent call last)",
      "Cell \u001b[1;32mIn[25], line 2\u001b[0m\n\u001b[0;32m      1\u001b[0m \u001b[38;5;28;01mimport\u001b[39;00m \u001b[38;5;21;01mmath\u001b[39;00m\n\u001b[1;32m----> 2\u001b[0m \u001b[43mmath\u001b[49m\u001b[38;5;241;43m.\u001b[39;49m\u001b[43msqrt\u001b[49m\u001b[43m(\u001b[49m\u001b[38;5;241;43m-\u001b[39;49m\u001b[38;5;241;43m1.0\u001b[39;49m\u001b[43m)\u001b[49m\n",
      "\u001b[1;31mValueError\u001b[0m: math domain error"
     ]
    }
   ],
   "source": [
    "import math\n",
    "math.sqrt(-1.0)"
   ]
  },
  {
   "cell_type": "code",
   "execution_count": 26,
   "id": "a68a3aff",
   "metadata": {},
   "outputs": [
    {
     "ename": "NameError",
     "evalue": "name 'x' is not defined",
     "output_type": "error",
     "traceback": [
      "\u001b[1;31m---------------------------------------------------------------------------\u001b[0m",
      "\u001b[1;31mNameError\u001b[0m                                 Traceback (most recent call last)",
      "Cell \u001b[1;32mIn[26], line 1\u001b[0m\n\u001b[1;32m----> 1\u001b[0m \u001b[38;5;28mprint\u001b[39m(\u001b[43mx\u001b[49m)\n",
      "\u001b[1;31mNameError\u001b[0m: name 'x' is not defined"
     ]
    }
   ],
   "source": [
    "print(x)"
   ]
  },
  {
   "cell_type": "code",
   "execution_count": 1,
   "id": "b675c4a5",
   "metadata": {},
   "outputs": [
    {
     "ename": "FileNotFoundError",
     "evalue": "[Errno 2] No such file or directory: 'open.txt'",
     "output_type": "error",
     "traceback": [
      "\u001b[1;31m---------------------------------------------------------------------------\u001b[0m",
      "\u001b[1;31mFileNotFoundError\u001b[0m                         Traceback (most recent call last)",
      "Cell \u001b[1;32mIn[1], line 1\u001b[0m\n\u001b[1;32m----> 1\u001b[0m \u001b[38;5;28;43mopen\u001b[39;49m\u001b[43m(\u001b[49m\u001b[38;5;124;43m'\u001b[39;49m\u001b[38;5;124;43mopen.txt\u001b[39;49m\u001b[38;5;124;43m'\u001b[39;49m\u001b[43m)\u001b[49m\n",
      "File \u001b[1;32m~\\AppData\\Local\\Programs\\Python\\Python311\\Lib\\site-packages\\IPython\\core\\interactiveshell.py:282\u001b[0m, in \u001b[0;36m_modified_open\u001b[1;34m(file, *args, **kwargs)\u001b[0m\n\u001b[0;32m    275\u001b[0m \u001b[38;5;28;01mif\u001b[39;00m file \u001b[38;5;129;01min\u001b[39;00m {\u001b[38;5;241m0\u001b[39m, \u001b[38;5;241m1\u001b[39m, \u001b[38;5;241m2\u001b[39m}:\n\u001b[0;32m    276\u001b[0m     \u001b[38;5;28;01mraise\u001b[39;00m \u001b[38;5;167;01mValueError\u001b[39;00m(\n\u001b[0;32m    277\u001b[0m         \u001b[38;5;124mf\u001b[39m\u001b[38;5;124m\"\u001b[39m\u001b[38;5;124mIPython won\u001b[39m\u001b[38;5;124m'\u001b[39m\u001b[38;5;124mt let you open fd=\u001b[39m\u001b[38;5;132;01m{\u001b[39;00mfile\u001b[38;5;132;01m}\u001b[39;00m\u001b[38;5;124m by default \u001b[39m\u001b[38;5;124m\"\u001b[39m\n\u001b[0;32m    278\u001b[0m         \u001b[38;5;124m\"\u001b[39m\u001b[38;5;124mas it is likely to crash IPython. If you know what you are doing, \u001b[39m\u001b[38;5;124m\"\u001b[39m\n\u001b[0;32m    279\u001b[0m         \u001b[38;5;124m\"\u001b[39m\u001b[38;5;124myou can use builtins\u001b[39m\u001b[38;5;124m'\u001b[39m\u001b[38;5;124m open.\u001b[39m\u001b[38;5;124m\"\u001b[39m\n\u001b[0;32m    280\u001b[0m     )\n\u001b[1;32m--> 282\u001b[0m \u001b[38;5;28;01mreturn\u001b[39;00m \u001b[43mio_open\u001b[49m\u001b[43m(\u001b[49m\u001b[43mfile\u001b[49m\u001b[43m,\u001b[49m\u001b[43m \u001b[49m\u001b[38;5;241;43m*\u001b[39;49m\u001b[43margs\u001b[49m\u001b[43m,\u001b[49m\u001b[43m \u001b[49m\u001b[38;5;241;43m*\u001b[39;49m\u001b[38;5;241;43m*\u001b[39;49m\u001b[43mkwargs\u001b[49m\u001b[43m)\u001b[49m\n",
      "\u001b[1;31mFileNotFoundError\u001b[0m: [Errno 2] No such file or directory: 'open.txt'"
     ]
    }
   ],
   "source": [
    "open('open.txt')"
   ]
  },
  {
   "cell_type": "markdown",
   "id": "e2c6e0ad",
   "metadata": {},
   "source": [
    "# Question 10\n"
   ]
  },
  {
   "cell_type": "code",
   "execution_count": 21,
   "id": "e747be48",
   "metadata": {},
   "outputs": [],
   "source": [
    "def frequencies(text):\n",
    "    letters = \"abcdefghijklmnopqrstuvwxyz\"\n",
    "    lettersList = list(letters)\n",
    "    \n",
    "    res = []\n",
    "    count = {}\n",
    "    \n",
    "    for keys in text: \n",
    "        count[keys] = count.get(keys, 0) + 1\n",
    "        \n",
    "    \n",
    "    for i in range(26):\n",
    "        if lettersList[i] in count:\n",
    "            res.append(count[lettersList[i]])\n",
    "        else:\n",
    "            res.append(0)\n",
    "            \n",
    "    print(res)\n",
    "\n"
   ]
  },
  {
   "cell_type": "code",
   "execution_count": 22,
   "id": "bef0e8c6",
   "metadata": {},
   "outputs": [
    {
     "name": "stdout",
     "output_type": "stream",
     "text": [
      "Type any sentence : apple\n",
      "[1, 0, 0, 0, 1, 0, 0, 0, 0, 0, 0, 1, 0, 0, 0, 2, 0, 0, 0, 0, 0, 0, 0, 0, 0, 0]\n"
     ]
    }
   ],
   "source": [
    "frequencies(input(\"Type any sentence : \").casefold())"
   ]
  },
  {
   "cell_type": "code",
   "execution_count": null,
   "id": "dc95b74a",
   "metadata": {},
   "outputs": [],
   "source": []
  }
 ],
 "metadata": {
  "kernelspec": {
   "display_name": "Python 3 (ipykernel)",
   "language": "python",
   "name": "python3"
  },
  "language_info": {
   "codemirror_mode": {
    "name": "ipython",
    "version": 3
   },
   "file_extension": ".py",
   "mimetype": "text/x-python",
   "name": "python",
   "nbconvert_exporter": "python",
   "pygments_lexer": "ipython3",
   "version": "3.11.1"
  }
 },
 "nbformat": 4,
 "nbformat_minor": 5
}
